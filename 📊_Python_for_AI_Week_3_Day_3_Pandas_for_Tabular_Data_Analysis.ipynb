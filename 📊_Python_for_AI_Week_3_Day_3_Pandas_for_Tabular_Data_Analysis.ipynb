{
  "cells": [
    {
      "cell_type": "markdown",
      "metadata": {
        "id": "view-in-github",
        "colab_type": "text"
      },
      "source": [
        "<a href=\"https://colab.research.google.com/github/aderibigbeolamide/MyFirstProject/blob/main/%F0%9F%93%8A_Python_for_AI_Week_3_Day_3_Pandas_for_Tabular_Data_Analysis.ipynb\" target=\"_parent\"><img src=\"https://colab.research.google.com/assets/colab-badge.svg\" alt=\"Open In Colab\"/></a>"
      ]
    },
    {
      "cell_type": "markdown",
      "metadata": {
        "id": "OuHU6m_VQUb9"
      },
      "source": [
        "Welcome!\n",
        "Today, we’ll learn how to use Pandas — Python’s most popular library for working with tables, spreadsheets, and real-world datasets.\n",
        "\n",
        "Think of Pandas as “Excel on steroids,” built for Python + AI/ML workflows."
      ]
    },
    {
      "cell_type": "markdown",
      "metadata": {
        "id": "QpMcHYrtQZxd"
      },
      "source": [
        "Import Pandas"
      ]
    },
    {
      "cell_type": "code",
      "execution_count": null,
      "metadata": {
        "colab": {
          "base_uri": "https://localhost:8080/"
        },
        "id": "BCZRKioKPutH",
        "outputId": "fcc4b263-942c-4247-958f-e8ce36884e58"
      },
      "outputs": [
        {
          "name": "stdout",
          "output_type": "stream",
          "text": [
            "Requirement already satisfied: pandas in /usr/local/lib/python3.11/dist-packages (2.2.2)\n",
            "Requirement already satisfied: numpy>=1.23.2 in /usr/local/lib/python3.11/dist-packages (from pandas) (2.0.2)\n",
            "Requirement already satisfied: python-dateutil>=2.8.2 in /usr/local/lib/python3.11/dist-packages (from pandas) (2.9.0.post0)\n",
            "Requirement already satisfied: pytz>=2020.1 in /usr/local/lib/python3.11/dist-packages (from pandas) (2025.2)\n",
            "Requirement already satisfied: tzdata>=2022.7 in /usr/local/lib/python3.11/dist-packages (from pandas) (2025.2)\n",
            "Requirement already satisfied: six>=1.5 in /usr/local/lib/python3.11/dist-packages (from python-dateutil>=2.8.2->pandas) (1.17.0)\n"
          ]
        }
      ],
      "source": [
        "!pip install pandas"
      ]
    },
    {
      "cell_type": "code",
      "execution_count": null,
      "metadata": {
        "id": "tiYYHQ9tOHSZ"
      },
      "outputs": [],
      "source": [
        "import pandas as pd"
      ]
    },
    {
      "cell_type": "markdown",
      "metadata": {
        "id": "_SDLWI3PQdW5"
      },
      "source": [
        "Load a Sample Dataset"
      ]
    },
    {
      "cell_type": "code",
      "execution_count": null,
      "metadata": {
        "colab": {
          "base_uri": "https://localhost:8080/"
        },
        "id": "hY2O2GAxTxX5",
        "outputId": "1db3ecb5-0b04-4fa0-b513-a3277a4ba066"
      },
      "outputs": [
        {
          "name": "stdout",
          "output_type": "stream",
          "text": [
            "   A  B  C\n",
            "0  1  2  3\n",
            "1  4  5  6\n",
            "2  7  8  9\n"
          ]
        }
      ],
      "source": [
        "import numpy as np\n",
        "import pandas as pd\n",
        "\n",
        "data = np.array([[1, 2, 3], [4, 5, 6], [7, 8, 9]])\n",
        "df = pd.DataFrame(data, columns=['A', 'B', 'C'])\n",
        "print(df)"
      ]
    },
    {
      "cell_type": "code",
      "execution_count": null,
      "metadata": {
        "colab": {
          "background_save": true,
          "base_uri": "https://localhost:8080/"
        },
        "id": "JBDFUP2ngBOU",
        "outputId": "ce933b79-e46d-4b7e-f557-08d3f38244be"
      },
      "outputs": [
        {
          "name": "stdout",
          "output_type": "stream",
          "text": [
            "0    1.0+0.0j\n",
            "1    2.0+0.0j\n",
            "2    3.0+0.0j\n",
            "3    4.0+0.0j\n",
            "dtype: complex128\n"
          ]
        }
      ],
      "source": [
        "import pandas as pd\n",
        "\n",
        "ser = pd.Series([1, 2, 3, 4])\n",
        "ser = ser.astype(bool)\n",
        "print(ser)"
      ]
    },
    {
      "cell_type": "code",
      "execution_count": null,
      "metadata": {
        "colab": {
          "base_uri": "https://localhost:8080/"
        },
        "id": "Elv6UyIGX88_",
        "outputId": "da40519c-70be-4e20-e4fc-31e1f09d1921"
      },
      "outputs": [
        {
          "name": "stdout",
          "output_type": "stream",
          "text": [
            "0    1\n",
            "1    2\n",
            "2    3\n",
            "3    4\n",
            "4    5\n",
            "dtype: int64\n",
            "1    2\n",
            "2    3\n",
            "3    4\n",
            "4    5\n",
            "dtype: int64\n"
          ]
        }
      ],
      "source": [
        "import pandas as pd\n",
        "import numpy as np\n",
        "\n",
        "# data = np.array(['g','e','e','k','s','f', 'o','r','g','e','e','k','s'])\n",
        "data = np.array([1, 2, 3, 4, 5])\n",
        "ser = pd.Series(data)\n",
        "\n",
        "print(ser)\n",
        "print(ser.loc[1:5])"
      ]
    },
    {
      "cell_type": "code",
      "execution_count": null,
      "metadata": {
        "colab": {
          "base_uri": "https://localhost:8080/"
        },
        "id": "A6Le2MG8ZnvV",
        "outputId": "b22b0ba0-941b-459b-dcf1-130ebed66da1"
      },
      "outputs": [
        {
          "name": "stdout",
          "output_type": "stream",
          "text": [
            "-9     g\n",
            " 11    e\n",
            " 12    e\n",
            " 13    k\n",
            " 14    s\n",
            " 15    f\n",
            " 16    o\n",
            " 17    r\n",
            " 18    g\n",
            " 19    e\n",
            " 20    e\n",
            " 21    k\n",
            " 22    s\n",
            "dtype: object\n",
            "g\n"
          ]
        }
      ],
      "source": [
        "import pandas as pd\n",
        "import numpy as np\n",
        "\n",
        "data = np.array(['g','e','e','k','s','f', 'o','r','g','e','e','k','s'])\n",
        "ser = pd.Series(data,index=[-9,11,12,13,14,15,16,17,18,19,20,21,22])\n",
        "\n",
        "print(ser)\n",
        "print(ser[-9])"
      ]
    },
    {
      "cell_type": "code",
      "execution_count": null,
      "metadata": {
        "id": "PFqu8AFMQ7Mk"
      },
      "outputs": [],
      "source": [
        "# Load a built-in dataset from seaborn\n",
        "import seaborn as sns\n",
        "tips = sns.load_dataset(\"tips\")\n",
        "\n",
        "# Display the first 5 rows\n",
        "tips.head()"
      ]
    },
    {
      "cell_type": "markdown",
      "metadata": {
        "id": "Vkusn8NfRACN"
      },
      "source": [
        "Exploring the Dataset"
      ]
    },
    {
      "cell_type": "code",
      "execution_count": null,
      "metadata": {
        "id": "9L4S71sYRDCL"
      },
      "outputs": [],
      "source": [
        "tips.info()          # Data types & nulls\n",
        "tips.describe()      # Summary statistics\n",
        "tips.columns         # Column names\n",
        "tips.shape           # Rows x Columns"
      ]
    },
    {
      "cell_type": "markdown",
      "metadata": {
        "id": "o8f4x_f_RJp4"
      },
      "source": [
        "✏️ Your Turn: Explore the tips dataset"
      ]
    },
    {
      "cell_type": "code",
      "execution_count": null,
      "metadata": {
        "id": "yq9X0oxnRM0C"
      },
      "outputs": [],
      "source": [
        "# Hint:\n",
        "# Use .info(), .describe(), .columns, .shape\n",
        "\n",
        "# Write your code here 👇"
      ]
    },
    {
      "cell_type": "markdown",
      "metadata": {
        "id": "h65etaU5RQZo"
      },
      "source": [
        "Selecting Columns and Rows"
      ]
    },
    {
      "cell_type": "code",
      "execution_count": null,
      "metadata": {
        "id": "LL4OI8rORS-n"
      },
      "outputs": [],
      "source": [
        "# Select a column\n",
        "tips['total_bill']\n",
        "\n",
        "# Select multiple columns\n",
        "tips[['total_bill', 'tip']]\n",
        "\n",
        "# Select rows using iloc (by index)\n",
        "tips.iloc[0:5]\n",
        "\n",
        "# Select rows using condition\n",
        "tips[tips['sex'] == 'Female']\n"
      ]
    },
    {
      "cell_type": "markdown",
      "metadata": {
        "id": "Lajl03YORd4s"
      },
      "source": [
        "🧪 Your Turn: Filter and View Data\n",
        "Select all rows where tip > 5\n",
        "\n",
        "Select only 'sex' and 'tip' columns\n",
        "\n",
        "Display first 10 results"
      ]
    },
    {
      "cell_type": "code",
      "execution_count": null,
      "metadata": {
        "id": "hP0HGXXGRkQ8"
      },
      "outputs": [],
      "source": [
        "# Hint:\n",
        "# Use tips[tips['tip'] > 5][['sex', 'tip']].head(10)\n",
        "\n",
        "# Write your code here 👇\n"
      ]
    },
    {
      "cell_type": "markdown",
      "metadata": {
        "id": "zzS_lPMwRoOS"
      },
      "source": [
        "🔄 5. Sorting and Aggregating\n",
        "python\n",
        "Copy\n",
        "Edit\n"
      ]
    },
    {
      "cell_type": "code",
      "execution_count": null,
      "metadata": {
        "id": "y9XR_88KRrFp"
      },
      "outputs": [],
      "source": [
        "# Sort by tip (descending)\n",
        "tips.sort_values('tip', ascending=False)\n",
        "\n",
        "# Average tip by gender\n",
        "tips.groupby('sex')['tip'].mean()\n",
        "\n",
        "# Count of smokers by day\n",
        "tips.groupby('day')['smoker'].value_counts()\n"
      ]
    },
    {
      "cell_type": "markdown",
      "metadata": {
        "id": "1ZO-fK0XRxTi"
      },
      "source": [
        "✨ Your Turn: Analyze the Data\n",
        "Find the average total bill by day\n",
        "\n",
        "Count how many customers were male vs female\n",
        "\n",
        "Sort the dataset by size (descending)"
      ]
    },
    {
      "cell_type": "code",
      "execution_count": null,
      "metadata": {
        "id": "L9wqH5EBR5qk"
      },
      "outputs": [],
      "source": [
        "# Hint:\n",
        "# Use groupby + mean/count, sort_values\n",
        "\n",
        "# Write your code here 👇\n"
      ]
    },
    {
      "cell_type": "markdown",
      "metadata": {
        "id": "-5kUgkMER-zs"
      },
      "source": [
        "🧹 6. Cleaning and Handling Missing Data\n",
        "python\n",
        "Copy\n",
        "Edit\n"
      ]
    },
    {
      "cell_type": "code",
      "execution_count": null,
      "metadata": {
        "id": "vf3ILw7GSDfU"
      },
      "outputs": [],
      "source": [
        "# Check for missing values\n",
        "tips.isnull().sum()\n",
        "\n",
        "# Drop missing rows\n",
        "tips.dropna()\n",
        "\n",
        "# Fill missing values\n",
        "tips.fillna(0)\n"
      ]
    },
    {
      "cell_type": "markdown",
      "metadata": {
        "id": "z7nfH4EtSMS2"
      },
      "source": [
        "✅ In real-world datasets, handling missing data is crucial before ML."
      ]
    },
    {
      "cell_type": "markdown",
      "metadata": {
        "id": "bcm5cJbpSrDR"
      },
      "source": [
        "🧪 Your Turn: Simulate and Clean Missing Data\n",
        "Manually add a missing value\n",
        "\n",
        "Use .isnull().sum() to detect\n",
        "\n",
        "Fill it with 0 or drop the row"
      ]
    },
    {
      "cell_type": "code",
      "execution_count": null,
      "metadata": {
        "id": "IaI7gzM8SvT_"
      },
      "outputs": [],
      "source": [
        "# Hint:\n",
        "# Use tips.iloc[2, 2] = np.nan to simulate missing value\n",
        "\n",
        "# Write your code here 👇\n"
      ]
    },
    {
      "cell_type": "markdown",
      "metadata": {
        "id": "v73J8OudTYhz"
      },
      "source": [
        "📝 Mini Assignment\n",
        "Task: Analyze the tips dataset\n",
        "\n",
        "Find the top 5 customers who gave the highest tip\n",
        "\n",
        "Calculate the average tip by day\n",
        "\n",
        "Display only the lunch-time female customers who tipped above 3\n",
        "\n",
        "Create a new column tip_percent = tip / total_bill * 100\n",
        "\n",
        "Sort by tip_percent descending"
      ]
    },
    {
      "cell_type": "code",
      "execution_count": null,
      "metadata": {
        "id": "ML8pAXbnTgfn"
      },
      "outputs": [],
      "source": [
        "# Hint:\n",
        "# Use filtering, groupby, new column creation: tips['new_col'] = ...\n",
        "# Start your code here 👇\n"
      ]
    }
  ],
  "metadata": {
    "colab": {
      "provenance": [],
      "authorship_tag": "ABX9TyP2k9xR+lkbqpWP8AwBZW0/",
      "include_colab_link": true
    },
    "kernelspec": {
      "display_name": "Python 3",
      "name": "python3"
    },
    "language_info": {
      "name": "python"
    }
  },
  "nbformat": 4,
  "nbformat_minor": 0
}